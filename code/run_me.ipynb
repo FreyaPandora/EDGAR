{
 "cells": [
  {
   "cell_type": "code",
   "execution_count": 1,
   "metadata": {},
   "outputs": [],
   "source": [
    "import edgar_downloader\n",
    "edgar_downloader.download_files_10k('AAPL', r'..\\10k_filings_raw')"
   ]
  },
  {
   "cell_type": "code",
   "execution_count": 5,
   "metadata": {},
   "outputs": [],
   "source": [
    "\n",
    "import edgar_cleaner\n",
    "edgar_cleaner.write_clean_html_text_files(r'..\\10k_filings_raw', r'..\\10k_filings_clean')"
   ]
  },
  {
   "cell_type": "code",
   "execution_count": 3,
   "metadata": {},
   "outputs": [
    {
     "ename": "KeyError",
     "evalue": "'prices'",
     "output_type": "error",
     "traceback": [
      "\u001b[1;31m---------------------------------------------------------------------------\u001b[0m",
      "\u001b[1;31mKeyError\u001b[0m                                  Traceback (most recent call last)",
      "Cell \u001b[1;32mIn[3], line 5\u001b[0m\n\u001b[0;32m      3\u001b[0m \u001b[39mimport\u001b[39;00m \u001b[39mref_data\u001b[39;00m \u001b[39mas\u001b[39;00m \u001b[39medgar_data\u001b[39;00m\n\u001b[0;32m      4\u001b[0m \u001b[39mfor\u001b[39;00m ticker \u001b[39min\u001b[39;00m tickers_sp100:\n\u001b[1;32m----> 5\u001b[0m     df_returns \u001b[39m=\u001b[39m edgar_data\u001b[39m.\u001b[39;49mget_yahoo_data(\u001b[39m'\u001b[39;49m\u001b[39m2012-01-01\u001b[39;49m\u001b[39m'\u001b[39;49m, \u001b[39m'\u001b[39;49m\u001b[39m2020-08-01\u001b[39;49m\u001b[39m'\u001b[39;49m, ticker)\n\u001b[0;32m      6\u001b[0m     df_returns\u001b[39m.\u001b[39mto_csv(\u001b[39mfr\u001b[39m\u001b[39m'\u001b[39m\u001b[39m..\u001b[39m\u001b[39m\\\u001b[39m\u001b[39mcode\u001b[39m\u001b[39m\\\u001b[39m\u001b[39myahoo_stock_returns\u001b[39m\u001b[39m\\\u001b[39m\u001b[39m{\u001b[39;00mticker\u001b[39m}\u001b[39;00m\u001b[39m_stock_returns_daily.csv\u001b[39m\u001b[39m'\u001b[39m, index\u001b[39m=\u001b[39m\u001b[39mFalse\u001b[39;00m)\n",
      "File \u001b[1;32mc:\\Edgar\\EDGAR\\code\\ref_data.py:28\u001b[0m, in \u001b[0;36mget_yahoo_data\u001b[1;34m(start_date, end_date, tickers)\u001b[0m\n\u001b[0;32m     26\u001b[0m \u001b[39mfor\u001b[39;00m ticker \u001b[39min\u001b[39;00m tickers:\n\u001b[0;32m     27\u001b[0m     data \u001b[39m=\u001b[39m YahooFinancials(ticker)\u001b[39m.\u001b[39mget_historical_price_data(start_date, end_date, \u001b[39m'\u001b[39m\u001b[39mdaily\u001b[39m\u001b[39m'\u001b[39m)\n\u001b[1;32m---> 28\u001b[0m     prices \u001b[39m=\u001b[39m pd\u001b[39m.\u001b[39mDataFrame(data[ticker][\u001b[39m'\u001b[39;49m\u001b[39mprices\u001b[39;49m\u001b[39m'\u001b[39;49m])\n\u001b[0;32m     29\u001b[0m     prices[\u001b[39m'\u001b[39m\u001b[39m1daily_return\u001b[39m\u001b[39m'\u001b[39m] \u001b[39m=\u001b[39m (prices[\u001b[39m'\u001b[39m\u001b[39mclose\u001b[39m\u001b[39m'\u001b[39m]\u001b[39m.\u001b[39mshift(\u001b[39m-\u001b[39m\u001b[39m1\u001b[39m) \u001b[39m-\u001b[39m prices[\u001b[39m'\u001b[39m\u001b[39mclose\u001b[39m\u001b[39m'\u001b[39m])\u001b[39m/\u001b[39mprices[\u001b[39m'\u001b[39m\u001b[39mclose\u001b[39m\u001b[39m'\u001b[39m]\n\u001b[0;32m     30\u001b[0m     prices[\u001b[39m'\u001b[39m\u001b[39m2daily_return\u001b[39m\u001b[39m'\u001b[39m] \u001b[39m=\u001b[39m (prices[\u001b[39m'\u001b[39m\u001b[39mclose\u001b[39m\u001b[39m'\u001b[39m]\u001b[39m.\u001b[39mshift(\u001b[39m-\u001b[39m\u001b[39m2\u001b[39m) \u001b[39m-\u001b[39m prices[\u001b[39m'\u001b[39m\u001b[39mclose\u001b[39m\u001b[39m'\u001b[39m])\u001b[39m/\u001b[39mprices[\u001b[39m'\u001b[39m\u001b[39mclose\u001b[39m\u001b[39m'\u001b[39m]\n",
      "\u001b[1;31mKeyError\u001b[0m: 'prices'"
     ]
    }
   ],
   "source": [
    "\n",
    "import ref_data as edgar_data\n",
    "tickers_sp100 = edgar_data. get_sp100()\n",
    "import ref_data as edgar_data\n",
    "for ticker in tickers_sp100:\n",
    "    df_returns = edgar_data.get_yahoo_data('2012-01-01', '2020-08-01', ticker)\n",
    "    df_returns.to_csv(fr'..\\code\\yahoo_stock_returns\\{ticker}_stock_returns_daily.csv', index=False)"
   ]
  },
  {
   "cell_type": "code",
   "execution_count": 3,
   "metadata": {},
   "outputs": [],
   "source": [
    "import ref_data as edgar_data\n",
    "sentiment_dict = edgar_data.get_sentiment_word_dict()\n",
    "import edgar_sentiment_wordcount as edgar_sentiment\n",
    "edgar_sentiment.write_document_sentiments(r'..\\10k_filings_clean', 'sentiment_factors.csv')\n",
    "\n"
   ]
  },
  {
   "cell_type": "code",
   "execution_count": null,
   "metadata": {},
   "outputs": [],
   "source": []
  }
 ],
 "metadata": {
  "kernelspec": {
   "display_name": "Python 3",
   "language": "python",
   "name": "python3"
  },
  "language_info": {
   "codemirror_mode": {
    "name": "ipython",
    "version": 3
   },
   "file_extension": ".py",
   "mimetype": "text/x-python",
   "name": "python",
   "nbconvert_exporter": "python",
   "pygments_lexer": "ipython3",
   "version": "3.10.8"
  },
  "orig_nbformat": 4,
  "vscode": {
   "interpreter": {
    "hash": "369f2c481f4da34e4445cda3fffd2e751bd1c4d706f27375911949ba6bb62e1c"
   }
  }
 },
 "nbformat": 4,
 "nbformat_minor": 2
}
