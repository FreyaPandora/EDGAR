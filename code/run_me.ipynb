{
 "cells": [
  {
   "cell_type": "code",
   "execution_count": 1,
   "metadata": {},
   "outputs": [],
   "source": [
    "#Part 3A\n",
    "# This obtains a list containing all the ticker names in the S&P100\n",
    "import ref_data as edgar_data\n",
    "tickers_sp100 = edgar_data.get_sp100() "
   ]
  },
  {
   "cell_type": "code",
   "execution_count": 2,
   "metadata": {},
   "outputs": [],
   "source": [
    "#Part 1\n",
    "# For every ticker, this downloads the website for them.\n",
    "# This code takes 4 hours to run\n",
    "import edgar_downloader\n",
    "\n",
    "for ticker in tickers_sp100:\n",
    "    edgar_downloader.download_files_10k(f'{ticker}', r'..\\data\\10k_filings_raw')\n",
    "    break"
   ]
  },
  {
   "cell_type": "code",
   "execution_count": 87,
   "metadata": {},
   "outputs": [],
   "source": [
    "#Part 2\n",
    "import edgar_cleaner\n",
    "edgar_cleaner.write_clean_html_text_files(r'..\\data\\10k_filings_raw', r'..\\data\\10k_filings_clean')"
   ]
  },
  {
   "cell_type": "code",
   "execution_count": 1,
   "metadata": {},
   "outputs": [],
   "source": [
    "#Part 3B\n",
    "import ref_data as edgar_data\n",
    "tickers_sp100 = edgar_data.get_sp100()\n",
    "import ref_data as edgar_data\n",
    "daily_stock_prices_df = edgar_data.get_yahoo_data('2012-02-01', '2023-03-10', tickers_sp100,'daily')\n",
    "daily_stock_prices_df.to_csv(r'../data/stock_returns_daily.csv', index=True)"
   ]
  },
  {
   "cell_type": "code",
   "execution_count": null,
   "metadata": {},
   "outputs": [],
   "source": [
    "#Part 3C\n",
    "import ref_data as edgar_data\n",
    "sentiment_dict = edgar_data.get_sentiment_word_dict()\n"
   ]
  },
  {
   "cell_type": "code",
   "execution_count": null,
   "metadata": {},
   "outputs": [],
   "source": [
    "#Part 4\n",
    "import edgar_sentiment_wordcount as edgar_sentiment\n",
    "edgar_sentiment.write_document_sentiments(r'..\\data\\10k_filings_clean', r'..\\data\\sentiment_factors.csv')"
   ]
  },
  {
   "cell_type": "code",
   "execution_count": null,
   "metadata": {},
   "outputs": [],
   "source": [
    "#Part 5\n",
    "import pandas as pd\n",
    "df_sentiment = pd.read_csv(r'..\\data\\sentiment_factors.csv')\n",
    "df_returns = pd.read_csv(r'..\\data\\stock_returns_daily.csv')\n",
    "df_returns.rename(columns = {'formatted_date':'FilingDate'}, inplace = True)\n",
    "df_clean = pd.merge(df_sentiment, df_returns, on = ['Symbol', 'FilingDate'], how = 'left')"
   ]
  }
 ],
 "metadata": {
  "kernelspec": {
   "display_name": "Python 3",
   "language": "python",
   "name": "python3"
  },
  "language_info": {
   "codemirror_mode": {
    "name": "ipython",
    "version": 3
   },
   "file_extension": ".py",
   "mimetype": "text/x-python",
   "name": "python",
   "nbconvert_exporter": "python",
   "pygments_lexer": "ipython3",
   "version": "3.10.8"
  },
  "orig_nbformat": 4,
  "vscode": {
   "interpreter": {
    "hash": "369f2c481f4da34e4445cda3fffd2e751bd1c4d706f27375911949ba6bb62e1c"
   }
  }
 },
 "nbformat": 4,
 "nbformat_minor": 2
}
