{
 "cells": [
  {
   "cell_type": "code",
   "execution_count": 2,
   "metadata": {},
   "outputs": [],
   "source": [
    "import ref_data as edgar_data\n",
    "tickers_sp100 = edgar_data.get_sp100() "
   ]
  },
  {
   "cell_type": "code",
   "execution_count": 4,
   "metadata": {},
   "outputs": [
    {
     "ename": "OSError",
     "evalue": "[WinError 123] The filename, directory name, or volume label syntax is incorrect: '..\\\\data\\x08k_filings_raw'",
     "output_type": "error",
     "traceback": [
      "\u001b[1;31m---------------------------------------------------------------------------\u001b[0m",
      "\u001b[1;31mOSError\u001b[0m                                   Traceback (most recent call last)",
      "Cell \u001b[1;32mIn[4], line 3\u001b[0m\n\u001b[0;32m      1\u001b[0m \u001b[39mimport\u001b[39;00m \u001b[39medgar_downloader\u001b[39;00m\n\u001b[0;32m      2\u001b[0m \u001b[39mfor\u001b[39;00m ticker \u001b[39min\u001b[39;00m tickers_sp100:\n\u001b[1;32m----> 3\u001b[0m     edgar_downloader\u001b[39m.\u001b[39;49mdownload_files_10k(\u001b[39mf\u001b[39;49m\u001b[39m'\u001b[39;49m\u001b[39m{\u001b[39;49;00mticker\u001b[39m}\u001b[39;49;00m\u001b[39m'\u001b[39;49m, \u001b[39m'\u001b[39;49m\u001b[39m..\u001b[39;49m\u001b[39m\\\u001b[39;49m\u001b[39mdata\u001b[39;49m\u001b[39m\\10\u001b[39;49;00m\u001b[39mk_filings_raw\u001b[39;49m\u001b[39m'\u001b[39;49m)\n",
      "File \u001b[1;32mc:\\Users\\Arian Khan Khan\\Documents\\KubrickNotes\\EDGAR Project\\EDGAR\\code\\edgar_downloader.py:38\u001b[0m, in \u001b[0;36mdownload_files_10k\u001b[1;34m(ticker, dest_folder)\u001b[0m\n\u001b[0;32m     36\u001b[0m \u001b[39m# Create the destination folder if it doesn't exist\u001b[39;00m\n\u001b[0;32m     37\u001b[0m \u001b[39mif\u001b[39;00m \u001b[39mnot\u001b[39;00m os\u001b[39m.\u001b[39mpath\u001b[39m.\u001b[39mexists(dest_folder):\n\u001b[1;32m---> 38\u001b[0m     os\u001b[39m.\u001b[39;49mmakedirs(dest_folder)\n\u001b[0;32m     40\u001b[0m \u001b[39m# Construct the URL to search for the ticker's filings\u001b[39;00m\n\u001b[0;32m     41\u001b[0m url \u001b[39m=\u001b[39m \u001b[39mr\u001b[39m\u001b[39m'\u001b[39m\u001b[39mhttps://www.sec.gov/edgar/searchedgar/companysearch\u001b[39m\u001b[39m'\u001b[39m\n",
      "File \u001b[1;32mc:\\Python310\\lib\\os.py:225\u001b[0m, in \u001b[0;36mmakedirs\u001b[1;34m(name, mode, exist_ok)\u001b[0m\n\u001b[0;32m    223\u001b[0m         \u001b[39mreturn\u001b[39;00m\n\u001b[0;32m    224\u001b[0m \u001b[39mtry\u001b[39;00m:\n\u001b[1;32m--> 225\u001b[0m     mkdir(name, mode)\n\u001b[0;32m    226\u001b[0m \u001b[39mexcept\u001b[39;00m \u001b[39mOSError\u001b[39;00m:\n\u001b[0;32m    227\u001b[0m     \u001b[39m# Cannot rely on checking for EEXIST, since the operating system\u001b[39;00m\n\u001b[0;32m    228\u001b[0m     \u001b[39m# could give priority to other errors like EACCES or EROFS\u001b[39;00m\n\u001b[0;32m    229\u001b[0m     \u001b[39mif\u001b[39;00m \u001b[39mnot\u001b[39;00m exist_ok \u001b[39mor\u001b[39;00m \u001b[39mnot\u001b[39;00m path\u001b[39m.\u001b[39misdir(name):\n",
      "\u001b[1;31mOSError\u001b[0m: [WinError 123] The filename, directory name, or volume label syntax is incorrect: '..\\\\data\\x08k_filings_raw'"
     ]
    }
   ],
   "source": [
    "import edgar_downloader\n",
    "for ticker in tickers_sp100:\n",
    "    edgar_downloader.download_files_10k(f'{ticker}', '..\\data\\10k_filings_raw')"
   ]
  },
  {
   "cell_type": "code",
   "execution_count": null,
   "metadata": {},
   "outputs": [],
   "source": [
    "\n",
    "import edgar_cleaner\n",
    "edgar_cleaner.write_clean_html_text_files('..\\data\\10k_filings_raw', '..\\data\\10k_filings_clean')"
   ]
  },
  {
   "cell_type": "code",
   "execution_count": null,
   "metadata": {},
   "outputs": [],
   "source": [
    "\n",
    "import ref_data as edgar_data\n",
    "for ticker in tickers_sp100:\n",
    "    df_returns = edgar_data.get_yahoo_data('2000-01-01', '2020-08-01', ticker)\n",
    "df_returns.to_csv('..\\data\\stock_returns_daily.csv', index=False)"
   ]
  },
  {
   "cell_type": "code",
   "execution_count": null,
   "metadata": {},
   "outputs": [],
   "source": [
    "import ref_data as edgar_data\n",
    "sentiment_dict = edgar_data.get_sentiment_word_dict()\n",
    "import edgar_sentiment_wordcount as edgar_sentiment\n",
    "edgar_sentiment.write_document_sentiments('..\\data\\10k_filings_clean', '..\\data\\sentiment_factors.csv')\n",
    "\n"
   ]
  },
  {
   "cell_type": "code",
   "execution_count": null,
   "metadata": {},
   "outputs": [],
   "source": [
    "\n",
    "import ref_data as edgar_data\n",
    "tickers_sp100 = edgar_data.get_sp100()\n",
    "import ref_data as edgar_data\n",
    "daily_stock_prices_df = edgar_data.get_yahoo_data('2000-01-01', '2020-08-01', tickers_sp100,'daily')\n"
   ]
  },
  {
   "cell_type": "code",
   "execution_count": null,
   "metadata": {},
   "outputs": [],
   "source": [
    "from yahoofinancials import YahooFinancials\n",
    "YahooFinancials('BRKB').get_historical_price_data('2000-01-01', '2020-08-01','daily')"
   ]
  },
  {
   "cell_type": "code",
   "execution_count": null,
   "metadata": {},
   "outputs": [],
   "source": [
    "daily_stock_prices_df.to_csv('../data/stock_returns_daily.csv', index=False)"
   ]
  },
  {
   "cell_type": "code",
   "execution_count": null,
   "metadata": {},
   "outputs": [],
   "source": []
  }
 ],
 "metadata": {
  "kernelspec": {
   "display_name": "Python 3",
   "language": "python",
   "name": "python3"
  },
  "language_info": {
   "codemirror_mode": {
    "name": "ipython",
    "version": 3
   },
   "file_extension": ".py",
   "mimetype": "text/x-python",
   "name": "python",
   "nbconvert_exporter": "python",
   "pygments_lexer": "ipython3",
   "version": "3.10.8"
  },
  "orig_nbformat": 4,
  "vscode": {
   "interpreter": {
    "hash": "369f2c481f4da34e4445cda3fffd2e751bd1c4d706f27375911949ba6bb62e1c"
   }
  }
 },
 "nbformat": 4,
 "nbformat_minor": 2
}
