{
 "cells": [
  {
   "cell_type": "code",
   "execution_count": 1,
   "metadata": {},
   "outputs": [],
   "source": [
    "# This obtains a list containing all the ticker names in the S&P100\n",
    "import ref_data as edgar_data\n",
    "tickers_sp100 = edgar_data.get_sp100() "
   ]
  },
  {
   "cell_type": "code",
   "execution_count": 4,
   "metadata": {},
   "outputs": [
    {
     "name": "stdout",
     "output_type": "stream",
     "text": [
      "101\n"
     ]
    }
   ],
   "source": [
    "# This obtains a list containing all the ticker names in the S&P100\n",
    "import ref_data as edgar_data\n",
    "tickers_sp100 = edgar_data.get_sp100()"
   ]
  },
  {
   "cell_type": "code",
   "execution_count": 2,
   "metadata": {},
   "outputs": [],
   "source": [
    "# For every ticker, this downloads the website for them.\n",
    "# This code takes 4 hours to run\n",
    "import edgar_downloader\n",
    "\n",
    "for ticker in tickers_sp100:\n",
    "    edgar_downloader.download_files_10k(f'{ticker}', r'..\\data\\10k_filings_raw')\n",
    "    break"
   ]
  },
  {
   "cell_type": "code",
   "execution_count": 87,
   "metadata": {},
   "outputs": [],
   "source": [
    "import edgar_cleaner\n",
    "edgar_cleaner.write_clean_html_text_files(r'..\\data\\10k_filings_raw', r'..\\data\\10k_filings_clean')"
   ]
  },
  {
   "cell_type": "code",
   "execution_count": 3,
   "metadata": {},
   "outputs": [
    {
     "name": "stdout",
     "output_type": "stream",
     "text": [
      "[]\n",
      "[]\n",
      "[]\n",
      "N\n",
      "None\n",
      "[]\n",
      "I\n",
      "None\n",
      "[]\n",
      "N\n",
      "None\n",
      "[]\n",
      "N\n",
      "None\n",
      "[]\n",
      "[]\n",
      "[]\n",
      "[]\n",
      "[]\n",
      "N\n",
      "None\n",
      "[]\n",
      "Y\n",
      "None\n",
      "-\n",
      "None\n",
      "[]\n",
      "[]\n",
      "[]\n",
      "[]\n",
      "S\n",
      "None\n",
      "[]\n",
      "[]\n",
      "S\n",
      "None\n",
      "[]\n",
      "S\n",
      "None\n",
      "S\n",
      "None\n",
      "[]\n",
      "[]\n",
      "I\n"
     ]
    },
    {
     "ename": "AttributeError",
     "evalue": "'NoneType' object has no attribute 'append'",
     "output_type": "error",
     "traceback": [
      "\u001b[1;31m---------------------------------------------------------------------------\u001b[0m",
      "\u001b[1;31mKeyError\u001b[0m                                  Traceback (most recent call last)",
      "File \u001b[1;32mc:\\Users\\FreyaPorter\\Python\\EDGAR\\EDGAR\\code\\ref_data.py:19\u001b[0m, in \u001b[0;36mget_yahoo_data\u001b[1;34m(start_date, end_date, tickers, freq)\u001b[0m\n\u001b[0;32m     18\u001b[0m data \u001b[39m=\u001b[39m YahooFinancials(ticker)\u001b[39m.\u001b[39mget_historical_price_data(start_date, end_date, freq)\n\u001b[1;32m---> 19\u001b[0m prices \u001b[39m=\u001b[39m pd\u001b[39m.\u001b[39mDataFrame(data[ticker][\u001b[39m'\u001b[39;49m\u001b[39mprices\u001b[39;49m\u001b[39m'\u001b[39;49m])\n\u001b[0;32m     20\u001b[0m prices[\u001b[39m'\u001b[39m\u001b[39m1daily_return\u001b[39m\u001b[39m'\u001b[39m] \u001b[39m=\u001b[39m (prices[\u001b[39m'\u001b[39m\u001b[39mclose\u001b[39m\u001b[39m'\u001b[39m]\u001b[39m.\u001b[39mshift(\u001b[39m-\u001b[39m\u001b[39m1\u001b[39m) \u001b[39m-\u001b[39m prices[\u001b[39m'\u001b[39m\u001b[39mclose\u001b[39m\u001b[39m'\u001b[39m])\u001b[39m/\u001b[39mprices[\u001b[39m'\u001b[39m\u001b[39mclose\u001b[39m\u001b[39m'\u001b[39m]\n",
      "\u001b[1;31mKeyError\u001b[0m: 'prices'",
      "\nDuring handling of the above exception, another exception occurred:\n",
      "\u001b[1;31mAttributeError\u001b[0m                            Traceback (most recent call last)",
      "Cell \u001b[1;32mIn[3], line 3\u001b[0m\n\u001b[0;32m      1\u001b[0m \u001b[39mimport\u001b[39;00m \u001b[39mref_data\u001b[39;00m \u001b[39mas\u001b[39;00m \u001b[39medgar_data\u001b[39;00m\n\u001b[0;32m      2\u001b[0m \u001b[39mfor\u001b[39;00m ticker \u001b[39min\u001b[39;00m tickers_sp100:\n\u001b[1;32m----> 3\u001b[0m     df_returns \u001b[39m=\u001b[39m edgar_data\u001b[39m.\u001b[39;49mget_yahoo_data(\u001b[39m'\u001b[39;49m\u001b[39m2000-01-01\u001b[39;49m\u001b[39m'\u001b[39;49m, \u001b[39m'\u001b[39;49m\u001b[39m2020-08-01\u001b[39;49m\u001b[39m'\u001b[39;49m, ticker,\u001b[39m'\u001b[39;49m\u001b[39mdaily\u001b[39;49m\u001b[39m'\u001b[39;49m)\n\u001b[0;32m      4\u001b[0m df_returns\u001b[39m.\u001b[39mto_csv(\u001b[39mr\u001b[39m\u001b[39m'\u001b[39m\u001b[39m..\u001b[39m\u001b[39m\\\u001b[39m\u001b[39mdata\u001b[39m\u001b[39m\\\u001b[39m\u001b[39mstock_returns_daily.csv\u001b[39m\u001b[39m'\u001b[39m, index\u001b[39m=\u001b[39m\u001b[39mFalse\u001b[39;00m)\n",
      "File \u001b[1;32mc:\\Users\\FreyaPorter\\Python\\EDGAR\\EDGAR\\code\\ref_data.py:31\u001b[0m, in \u001b[0;36mget_yahoo_data\u001b[1;34m(start_date, end_date, tickers, freq)\u001b[0m\n\u001b[0;32m     29\u001b[0m         list_comps\u001b[39m.\u001b[39mappend(prices)\n\u001b[0;32m     30\u001b[0m     \u001b[39mexcept\u001b[39;00m:\n\u001b[1;32m---> 31\u001b[0m         skipped \u001b[39m=\u001b[39m skipped\u001b[39m.\u001b[39;49mappend(ticker)\n\u001b[0;32m     32\u001b[0m         \u001b[39mprint\u001b[39m(ticker)\n\u001b[0;32m     35\u001b[0m final_df\u001b[39m=\u001b[39mpd\u001b[39m.\u001b[39mconcat(list_comps)   \n",
      "\u001b[1;31mAttributeError\u001b[0m: 'NoneType' object has no attribute 'append'"
     ]
    }
   ],
   "source": [
    "import ref_data as edgar_data\n",
    "for ticker in tickers_sp100:\n",
    "    df_returns = edgar_data.get_yahoo_data('2000-01-01', '2020-08-01', ticker,'daily')\n",
    "df_returns.to_csv(r'..\\data\\stock_returns_daily.csv', index=True)"
   ]
  },
  {
   "cell_type": "code",
   "execution_count": 1,
   "metadata": {},
   "outputs": [],
   "source": [
    "import ref_data as edgar_data\n",
    "sentiment_dict = edgar_data.get_sentiment_word_dict()\n",
    "import edgar_sentiment_wordcount as edgar_sentiment\n",
    "edgar_sentiment.write_document_sentiments(r'..\\data\\10k_filings_clean', r'..\\data\\sentiment_factors.csv')"
   ]
  },
  {
   "cell_type": "code",
   "execution_count": null,
   "metadata": {},
   "outputs": [],
   "source": [
    "\n",
    "import ref_data as edgar_data\n",
    "tickers_sp100 = edgar_data.get_sp100()\n",
    "import ref_data as edgar_data\n",
    "daily_stock_prices_df = edgar_data.get_yahoo_data('2000-01-01', '2020-08-01', tickers_sp100,'daily')\n"
   ]
  },
  {
   "cell_type": "code",
   "execution_count": null,
   "metadata": {},
   "outputs": [],
   "source": [
    "from yahoofinancials import YahooFinancials\n",
    "YahooFinancials('BRKB').get_historical_price_data('2000-01-01', '2020-08-01','daily')"
   ]
  },
  {
   "cell_type": "code",
   "execution_count": null,
   "metadata": {},
   "outputs": [],
   "source": [
    "daily_stock_prices_df.to_csv(r'../data/stock_returns_daily.csv', index=True)"
   ]
  },
  {
   "cell_type": "code",
   "execution_count": null,
   "metadata": {},
   "outputs": [],
   "source": []
  }
 ],
 "metadata": {
  "kernelspec": {
   "display_name": "Python 3",
   "language": "python",
   "name": "python3"
  },
  "language_info": {
   "codemirror_mode": {
    "name": "ipython",
    "version": 3
   },
   "file_extension": ".py",
   "mimetype": "text/x-python",
   "name": "python",
   "nbconvert_exporter": "python",
   "pygments_lexer": "ipython3",
   "version": "3.10.8"
  },
  "orig_nbformat": 4,
  "vscode": {
   "interpreter": {
    "hash": "369f2c481f4da34e4445cda3fffd2e751bd1c4d706f27375911949ba6bb62e1c"
   }
  }
 },
 "nbformat": 4,
 "nbformat_minor": 2
}
