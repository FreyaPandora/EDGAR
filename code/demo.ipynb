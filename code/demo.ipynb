{
 "cells": [
  {
   "cell_type": "code",
   "execution_count": null,
   "metadata": {},
   "outputs": [],
   "source": [
    "# DEMO:\n",
    "import edgar_downloader\n",
    "\n",
    "ticker_demo = ['AAPL','NVDA']\n",
    "\n",
    "for ticker in ticker_demo:\n",
    "    edgar_downloader.download_files_10k(f'{ticker}', fr'..\\demo_data\\10k_filings_raw')"
   ]
  },
  {
   "cell_type": "code",
   "execution_count": null,
   "metadata": {},
   "outputs": [],
   "source": [
    "import edgar_cleaner\n",
    "edgar_cleaner.write_clean_html_text_files(r'..\\demo_data\\10k_filings_raw_use_me', fr'..\\demo_data\\10k_filings_clean')"
   ]
  },
  {
   "cell_type": "code",
   "execution_count": null,
   "metadata": {},
   "outputs": [],
   "source": [
    "import ref_data as edgar_data\n",
    "ticker_demo = ['AAPL','NVDA']\n",
    "daily_stock_prices_df = edgar_data.get_yahoo_data('2012-02-01', '2023-03-10', ticker_demo,'daily')\n",
    "daily_stock_prices_df.to_csv(r'../demo_data/stock_returns_daily.csv', index=True)"
   ]
  },
  {
   "cell_type": "code",
   "execution_count": null,
   "metadata": {},
   "outputs": [],
   "source": [
    "import ref_data as edgar_data\n",
    "sentiment_dict = edgar_data.get_sentiment_word_dict()\n",
    "sentiment_dict"
   ]
  },
  {
   "cell_type": "code",
   "execution_count": null,
   "metadata": {},
   "outputs": [],
   "source": [
    "import edgar_sentiment_wordcount as edgar_sentiment\n",
    "edgar_sentiment.write_document_sentiments(r'..\\demo_data\\10k_filings_clean_use_me', r'..\\demo_data\\sentiment_factors.csv')"
   ]
  },
  {
   "cell_type": "code",
   "execution_count": null,
   "metadata": {},
   "outputs": [],
   "source": [
    "import pandas as pd\n",
    "df_sentiment = pd.read_csv(r'..\\demo_data\\sentiment_factors.csv')\n",
    "df_returns = pd.read_csv(r'..\\demo_data\\stock_returns_daily.csv')\n",
    "df_returns.rename(columns = {'formatted_date':'FilingDate'}, inplace = True)\n",
    "df_clean = pd.merge(df_sentiment, df_returns, on = ['Symbol', 'FilingDate'], how = 'left')\n",
    "df_clean.to_csv('..\\demo_data\\merged_data.csv')"
   ]
  },
  {
   "cell_type": "code",
   "execution_count": null,
   "metadata": {},
   "outputs": [],
   "source": [
    "# ADD CODE FOR WORD COUNTING"
   ]
  }
 ],
 "metadata": {
  "kernelspec": {
   "display_name": "Python 3",
   "language": "python",
   "name": "python3"
  },
  "language_info": {
   "codemirror_mode": {
    "name": "ipython",
    "version": 3
   },
   "file_extension": ".py",
   "mimetype": "text/x-python",
   "name": "python",
   "nbconvert_exporter": "python",
   "pygments_lexer": "ipython3",
   "version": "3.10.8"
  },
  "orig_nbformat": 4,
  "vscode": {
   "interpreter": {
    "hash": "369f2c481f4da34e4445cda3fffd2e751bd1c4d706f27375911949ba6bb62e1c"
   }
  }
 },
 "nbformat": 4,
 "nbformat_minor": 2
}
